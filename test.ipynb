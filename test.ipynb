{
 "cells": [
  {
   "cell_type": "code",
   "execution_count": 1,
   "metadata": {},
   "outputs": [],
   "source": [
    "from bin.peripheral import peripheral\n",
    "import polars as pl \n",
    "\n",
    "metadata = (\n",
    "\n",
    "\n",
    "        pl.read_csv(\"input/proteins-2024-05-07.csv\", separator = \",\", infer_schema_length = 20000)\n",
    "            .with_columns(\n",
    "                pl.concat_str([\n",
    "                        pl.lit(\"input/OPM\"),\n",
    "                        pl.concat_str([pl.col(\"pdbid\"), pl.lit(\".pdb\")], separator = \"\")           \n",
    "                    ], separator = \"/\",\n",
    "                ).alias(\"pdb_path\")\n",
    "            )\n",
    "    )\n",
    "\n",
    "horizontal_peripheral_peptides = peripheral_peptides & (pl.col(\"tilt\") > 75)\n",
    "\n",
    "\n"
   ]
  }
 ],
 "metadata": {
  "kernelspec": {
   "display_name": "Python 3",
   "language": "python",
   "name": "python3"
  },
  "language_info": {
   "codemirror_mode": {
    "name": "ipython",
    "version": 3
   },
   "file_extension": ".py",
   "mimetype": "text/x-python",
   "name": "python",
   "nbconvert_exporter": "python",
   "pygments_lexer": "ipython3",
   "version": "3.12.5"
  }
 },
 "nbformat": 4,
 "nbformat_minor": 2
}
