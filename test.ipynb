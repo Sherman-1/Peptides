{
 "cells": [
  {
   "cell_type": "code",
   "execution_count": 2,
   "metadata": {},
   "outputs": [],
   "source": [
    "from bin.peripheral import peripheral\n",
    "import polars as pl \n",
    "from glob import glob\n",
    "\n",
    "def get_paths():\n",
    "\n",
    "    \"\"\"\n",
    "    ## type_id correspondance : \n",
    "\n",
    "    #   1 : Multitopic transmembrane\n",
    "    #   2 : Monotopic / Peripherals\n",
    "    #   3 : Peptides \n",
    "\n",
    "    ## classtype_id correspondance :\n",
    "\n",
    "    ###### Multitopic transmembrane ######\n",
    "    #  1  : Alpha-helical polytopic \n",
    "    #  11 : Bitopic proteins \n",
    "    #  2  : Beta barrel \n",
    "\n",
    "    ###### Monotopic ######\n",
    "    #  4  : All alpha \n",
    "    #  3  : All beta\n",
    "    #  5  : Alpha / beta\n",
    "    #  6  : Alpha + beta\n",
    "\n",
    "    ###### Peptides #######\n",
    "    #  7  : Alpha-helical peptides\n",
    "    #  8  : Beta-helical peptides\n",
    "    #  9  : Beta hairpins \n",
    "    #  10 : Non-regular peptides\n",
    "    \"\"\"\n",
    "\n",
    "    metadata = (\n",
    "\n",
    "        pl.read_csv(\"input/proteins-2024-05-07.csv\", separator = \",\", infer_schema_length = 20000)\n",
    "            .with_columns(\n",
    "                pl.concat_str([\n",
    "                        pl.lit(\"input/OPM\"),\n",
    "                        pl.concat_str([pl.col(\"pdbid\"), pl.lit(\".pdb\")], separator = \"\")           \n",
    "                    ], separator = \"/\",\n",
    "                ).alias(\"pdb_path\")\n",
    "            )\n",
    "    )\n",
    "\n",
    "    ## FILTERS ## \n",
    "\n",
    "    # Annotated bitopic proteins, put threshold of 20 to avoid some false positives\n",
    "    bitopic_proteins = ((pl.col(\"classtype_id\") == 11) & (pl.col(\"thickness\") >= 20)) \n",
    "    # All peptides that are crossing the membrane ( > 20 ), regardless of their folding type\n",
    "    bitopic_peptides = ((pl.col(\"type_id\") == 3) & (pl.col(\"thickness\") >= 20)) \n",
    "    # Multitopic proteins to be cut \n",
    "    polytopic_proteins = (pl.col(\"classtype_id\") == 1) & (pl.col(\"thickness\") >= 20)\n",
    "    # Some \"peripheral\" proteins are anchored to the mb through lipidation, empirical threshold of 12 to remove them\n",
    "    peripheral_proteins = (pl.col(\"type_id\") == 2) & (pl.col(\"thickness\") <= 12) \n",
    "    # All peptides that are not beta-helical or non-regular and that are not crossing the membrane\n",
    "    peripheral_peptides = ((pl.col(\"type_id\") == 3) & (pl.col(\"thickness\") < 20) & (pl.col(\"tilt\") <= 80)) \n",
    "    horizontal_peripheral_peptides = ((pl.col(\"type_id\") == 3) & (pl.col(\"thickness\") < 20) & (pl.col(\"tilt\") > 80))\n",
    "    # Mis-annotated bitopic proteins\n",
    "    misannotated_proteins = ((pl.col(\"classtype_id\") == 11) & (pl.col(\"thickness\") < 20))\n",
    "\n",
    "    membranome = list(glob(\"input/membranome/*.pdb\"))\n",
    "    bitopic_proteins = metadata.filter(bitopic_proteins)[\"pdb_path\"].to_list()\n",
    "    bitopic_peptides = metadata.filter(bitopic_peptides)[\"pdb_path\"].to_list()\n",
    "\n",
    "    tm_paths = {\n",
    "        \n",
    "        \"bitopic\" : bitopic_proteins + bitopic_peptides + membranome,\n",
    "        \"polytopic\" : metadata.filter(polytopic_proteins)[\"pdb_path\"].to_list()\n",
    "\n",
    "    }\n",
    "\n",
    "    peripheral_proteins = metadata.filter(peripheral_proteins)[\"pdb_path\"].to_list()\n",
    "    peripheral_peptides = metadata.filter(peripheral_peptides)[\"pdb_path\"].to_list()\n",
    "    misannotated_proteins = metadata.filter(misannotated_proteins)[\"pdb_path\"].to_list()\n",
    "\n",
    "    peripheral_paths = {\n",
    "\n",
    "        \"peripheral\" : peripheral_proteins + peripheral_peptides + misannotated_proteins,\n",
    "        \"horizontal\" : metadata.filter(horizontal_peripheral_peptides)[\"pdb_path\"].to_list(),\n",
    "\n",
    "    }\n",
    "\n",
    "    return tm_paths, peripheral_paths\n",
    "\n",
    "\n"
   ]
  },
  {
   "cell_type": "code",
   "execution_count": 1,
   "metadata": {},
   "outputs": [
    {
     "ename": "NameError",
     "evalue": "name 'tm' is not defined",
     "output_type": "error",
     "traceback": [
      "\u001b[0;31m---------------------------------------------------------------------------\u001b[0m",
      "\u001b[0;31mNameError\u001b[0m                                 Traceback (most recent call last)",
      "Cell \u001b[0;32mIn[1], line 7\u001b[0m\n\u001b[1;32m      4\u001b[0m \u001b[38;5;28;01mimport\u001b[39;00m \u001b[38;5;21;01mrandom\u001b[39;00m\n\u001b[1;32m      6\u001b[0m c \u001b[38;5;241m=\u001b[39m \u001b[38;5;241m0\u001b[39m\n\u001b[0;32m----> 7\u001b[0m \u001b[38;5;28;01mfor\u001b[39;00m path \u001b[38;5;129;01min\u001b[39;00m tqdm(\u001b[43mtm\u001b[49m[\u001b[38;5;124m\"\u001b[39m\u001b[38;5;124mpolytopic\u001b[39m\u001b[38;5;124m\"\u001b[39m]):\n\u001b[1;32m      9\u001b[0m     \u001b[38;5;28;01mtry\u001b[39;00m:\n\u001b[1;32m     11\u001b[0m         transmembrane(path, \u001b[38;5;28;01mNone\u001b[39;00m, \u001b[38;5;241m15\u001b[39m, \u001b[38;5;241m0\u001b[39m, \u001b[38;5;241m20\u001b[39m, \u001b[38;5;241m70\u001b[39m, \u001b[38;5;241m1\u001b[39m, \u001b[38;5;28;01mNone\u001b[39;00m, \u001b[38;5;124m\"\u001b[39m\u001b[38;5;124minput/iORFs.csv\u001b[39m\u001b[38;5;124m\"\u001b[39m, verbose \u001b[38;5;241m=\u001b[39m \u001b[38;5;28;01mTrue\u001b[39;00m)\n",
      "\u001b[0;31mNameError\u001b[0m: name 'tm' is not defined"
     ]
    }
   ],
   "source": [
    "from bin.transmembrane import transmembrane \n",
    "from tqdm import tqdm\n",
    "from glob import glob \n",
    "import random\n",
    "\n",
    "c = 0\n",
    "for path in tqdm(tm[\"polytopic\"]):\n",
    "\n",
    "    try:\n",
    "        \n",
    "        transmembrane(path, None, 15, 0, 20, 70, 1, None, \"input/iORFs.csv\", verbose = True)\n",
    "    except Exception as e:\n",
    "        c += 1\n",
    "\n",
    "print(f\"Total : {len(tm[\"polytopic\"])}\")\n",
    "print(f\"Bad : {c}\")\n"
   ]
  },
  {
   "cell_type": "code",
   "execution_count": 9,
   "metadata": {},
   "outputs": [
    {
     "data": {
      "image/png": "[encoded data removed]",
      "text/plain": [
       "<Figure size 640x480 with 1 Axes>"
      ]
     },
     "metadata": {},
     "output_type": "display_data"
    }
   ],
   "source": []
  }
 ],
 "metadata": {
  "kernelspec": {
   "display_name": "Python 3",
   "language": "python",
   "name": "python3"
  },
  "language_info": {
   "codemirror_mode": {
    "name": "ipython",
    "version": 3
   },
   "file_extension": ".py",
   "mimetype": "text/x-python",
   "name": "python",
   "nbconvert_exporter": "python",
   "pygments_lexer": "ipython3",
   "version": "3.12.5"
  }
 },
 "nbformat": 4,
 "nbformat_minor": 2
}
