{
 "cells": [
  {
   "cell_type": "code",
   "execution_count": 23,
   "metadata": {},
   "outputs": [
    {
     "name": "stdout",
     "output_type": "stream",
     "text": [
      "The protein is transmembrane\n"
     ]
    }
   ],
   "source": [
    "import numpy as np\n",
    "\n",
    "file_path = \"1a91.pdb\"\n",
    "\n",
    "coordinates_protein = []\n",
    "coordinates_membrane = []\n",
    "with open(file_path,\"r\") as f:\n",
    "\n",
    "    line = f.readline()\n",
    "\n",
    "    while line:\n",
    "\n",
    "        line = line.split()\n",
    "\n",
    "        if line[0] == \"ATOM\" and line[2] == \"CA\":\n",
    "\n",
    "            x = float(line[6])\n",
    "            y = float(line[7])\n",
    "            z = float(line[8])\n",
    "\n",
    "            coordinates_protein.append([x,y,z])\n",
    "\n",
    "        elif line[0] == \"HETATM\" and \"DUM\" in line:\n",
    "\n",
    "            x = float(line[5])\n",
    "            y = float(line[6])\n",
    "            z = float(line[7])\n",
    "\n",
    "            coordinates_membrane.append([x,y,z])\n",
    "\n",
    "        line = f.readline()\n",
    "\n",
    "coordinates_protein = np.array(coordinates_protein)\n",
    "coordinates_membrane = np.array(coordinates_membrane)\n",
    "\n",
    "# Is the protein transmembrane?\n",
    "\n",
    "# The protein is transmembrane if it has at least one residue with a z coordinate\n",
    "# greater than the z coordinate of the membrane\n",
    "\n",
    "z_protein = coordinates_protein[:,2]\n",
    "z_membrane = coordinates_membrane[:,2]\n",
    "\n",
    "\n",
    "if np.any(z_protein > np.max(z_membrane)) and np.any(z_protein < np.min(z_membrane)):\n",
    "    print(\"The protein is transmembrane\")\n",
    "    "
   ]
  }
 ],
 "metadata": {
  "kernelspec": {
   "display_name": "Python 3",
   "language": "python",
   "name": "python3"
  },
  "language_info": {
   "codemirror_mode": {
    "name": "ipython",
    "version": 3
   },
   "file_extension": ".py",
   "mimetype": "text/x-python",
   "name": "python",
   "nbconvert_exporter": "python",
   "pygments_lexer": "ipython3",
   "version": "3.8.10"
  }
 },
 "nbformat": 4,
 "nbformat_minor": 2
}
